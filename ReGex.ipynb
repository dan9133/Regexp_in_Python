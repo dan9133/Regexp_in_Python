{
  "cells": [
    {
      "cell_type": "markdown",
      "metadata": {
        "id": "view-in-github",
        "colab_type": "text"
      },
      "source": [
        "<a href=\"https://colab.research.google.com/github/dan9133/Regexp_in_Python/blob/main/ReGex.ipynb\" target=\"_parent\"><img src=\"https://colab.research.google.com/assets/colab-badge.svg\" alt=\"Open In Colab\"/></a>"
      ]
    },
    {
      "cell_type": "markdown",
      "metadata": {
        "id": "nTzumlb4fW2S"
      },
      "source": [
        "# Python RegEx\n",
        "\n",
        "A RegEx, or Regular Expression, is a sequence of characters that forms a search pattern.\n",
        "\n",
        "RegEx can be used to check if a string contains the specified search pattern.\n",
        "\n",
        "Python has a built-in package called re, which can be used to work with Regular Expressions.\n",
        "\n",
        "Import the re module:"
      ]
    },
    {
      "cell_type": "code",
      "execution_count": null,
      "metadata": {
        "id": "dIyEw_PNfW2W"
      },
      "outputs": [],
      "source": [
        "import re"
      ]
    },
    {
      "cell_type": "code",
      "execution_count": null,
      "metadata": {
        "id": "5GWR7hnefW2Y"
      },
      "outputs": [],
      "source": [
        "#Search the string to see if it starts with \"The\" and ends with \"Spain\":\n",
        "\n",
        "import re\n",
        "\n",
        "txt = \"The train in Spain\"\n",
        "x = re.search(\"^The.*Spain$\", txt)"
      ]
    },
    {
      "cell_type": "code",
      "execution_count": null,
      "metadata": {
        "id": "fe3mIuLyfW2Y",
        "outputId": "a87b4180-304a-410e-f7fd-39a89d142e70"
      },
      "outputs": [
        {
          "name": "stdout",
          "output_type": "stream",
          "text": [
            "<re.Match object; span=(0, 18), match='The train in Spain'>\n"
          ]
        }
      ],
      "source": [
        "print(x)\n",
        "#result is returned in the form of an object"
      ]
    },
    {
      "cell_type": "markdown",
      "metadata": {
        "id": "nrV7htbEfW2a"
      },
      "source": [
        "The re module offers a set of functions that allows us to search a string for a match:\n",
        "\n",
        "\n",
        "\n",
        "findall\tReturns a list containing all matches\n",
        "\n",
        "search\tReturns a Match object if there is a match anywhere in the string\n",
        "\n",
        "split\tReturns a list where the string has been split at each match\n",
        "\n",
        "sub\tReplaces one or many matches with a string"
      ]
    },
    {
      "cell_type": "markdown",
      "metadata": {
        "id": "gfiNxCZkfW2a"
      },
      "source": [
        "![image.png](attachment:image.png)"
      ]
    },
    {
      "cell_type": "markdown",
      "metadata": {
        "id": "OHEZyHDzfW2a"
      },
      "source": [
        "![image.png](attachment:image.png)"
      ]
    },
    {
      "cell_type": "markdown",
      "metadata": {
        "id": "qr6T0Z1cfW2a"
      },
      "source": [
        "![image.png](attachment:image.png)"
      ]
    },
    {
      "cell_type": "markdown",
      "metadata": {
        "id": "8O2Ey5tTfW2b"
      },
      "source": [
        "### The findall() Function\n",
        "\n",
        "The findall() function returns a list containing all matches."
      ]
    },
    {
      "cell_type": "code",
      "execution_count": null,
      "metadata": {
        "id": "0726gRMOfW2b",
        "outputId": "eb9e62a1-a86b-494f-dcb4-bfce2d17339c"
      },
      "outputs": [
        {
          "name": "stdout",
          "output_type": "stream",
          "text": [
            "['ai', 'ai']\n"
          ]
        }
      ],
      "source": [
        "#Print a list of all matches:\n",
        "\n",
        "import re\n",
        "\n",
        "txt = \"The train in Spain\"\n",
        "\n",
        "#find a match for substring ai\n",
        "x = re.findall(\"ai\", txt)\n",
        "\n",
        "print(x)"
      ]
    },
    {
      "cell_type": "markdown",
      "metadata": {
        "id": "eLq_SwlsfW2c"
      },
      "source": [
        "The list contains the matches in the order they are found.\n",
        "\n",
        "If no matches are found, an empty list is returned:"
      ]
    },
    {
      "cell_type": "code",
      "execution_count": null,
      "metadata": {
        "id": "EhxoVqLpfW2c",
        "outputId": "c9bad8d9-bf0a-42e2-8cee-cec8e65243e5"
      },
      "outputs": [
        {
          "name": "stdout",
          "output_type": "stream",
          "text": [
            "[]\n"
          ]
        }
      ],
      "source": [
        "#Return an empty list if no match was found:\n",
        "\n",
        "import re\n",
        "\n",
        "txt = \"The train in Spain\"\n",
        "\n",
        "x = re.findall(\"Portugal\", txt)\n",
        "print(x)"
      ]
    },
    {
      "cell_type": "markdown",
      "metadata": {
        "id": "uxW5E2PxfW2d"
      },
      "source": [
        "### The search() Function\n",
        "\n",
        "The search() function searches the string for a match, and returns a Match object if there is a match.\n",
        "\n",
        "If there is more than one match, only the first occurrence of the match will be returned:"
      ]
    },
    {
      "cell_type": "code",
      "execution_count": null,
      "metadata": {
        "id": "glwdSTQafW2d",
        "outputId": "17ff90d5-ff2a-4634-e741-7b01b0787471"
      },
      "outputs": [
        {
          "name": "stdout",
          "output_type": "stream",
          "text": [
            "<re.Match object; span=(3, 4), match=' '>\n",
            "The first white-space character is located in position: 3\n"
          ]
        }
      ],
      "source": [
        "#Search for the first white-space character in the string:\n",
        "\n",
        "import re\n",
        "\n",
        "txt = \"The train in Spain\"\n",
        "\n",
        "x = re.search(\"\\s\", txt)\n",
        "\n",
        "print(x)\n",
        "\n",
        "print(\"The first white-space character is located in position:\", x.start())"
      ]
    },
    {
      "cell_type": "code",
      "execution_count": null,
      "metadata": {
        "id": "ZpH49sYFfW2d",
        "outputId": "8d6c3020-f4e7-4f7d-b770-e316651833ee"
      },
      "outputs": [
        {
          "name": "stdout",
          "output_type": "stream",
          "text": [
            "None\n"
          ]
        }
      ],
      "source": [
        "#if no matches are found, the value None is returned:\n",
        "\n",
        "import re\n",
        "\n",
        "txt = \"The train in Spain\"\n",
        "x = re.search(\"Portugal\", txt)\n",
        "print(x)"
      ]
    },
    {
      "cell_type": "markdown",
      "metadata": {
        "id": "U2kZuF6OfW2e"
      },
      "source": [
        "### The split() Function\n",
        "\n",
        "The split() function returns a list where the string has been split at each match:"
      ]
    },
    {
      "cell_type": "code",
      "execution_count": null,
      "metadata": {
        "id": "VNiJZdRufW2e",
        "outputId": "d6db21b8-1e14-4ab3-ab05-1c181f2cea4a"
      },
      "outputs": [
        {
          "name": "stdout",
          "output_type": "stream",
          "text": [
            "['The', 'train', 'in', 'Spain']\n"
          ]
        }
      ],
      "source": [
        "#Split at each white-space character:\n",
        "\n",
        "import re\n",
        "\n",
        "txt = \"The train in Spain\"\n",
        "\n",
        "x = re.split(\"\\s\", txt)\n",
        "print(x)"
      ]
    },
    {
      "cell_type": "code",
      "execution_count": null,
      "metadata": {
        "id": "Ys3UtnBjfW2f",
        "outputId": "45a9b3bb-1325-44ae-ce37-4aae53c57bab"
      },
      "outputs": [
        {
          "name": "stdout",
          "output_type": "stream",
          "text": [
            "['The', 'train in Spain']\n"
          ]
        }
      ],
      "source": [
        "#Split the string only at the first occurrence:\n",
        "\n",
        "import re\n",
        "\n",
        "txt = \"The train in Spain\"\n",
        "x = re.split(\"\\s\", txt, 1)#maxsplit\n",
        "print(x)"
      ]
    },
    {
      "cell_type": "markdown",
      "metadata": {
        "id": "1zu6E4ZCfW2f"
      },
      "source": [
        "### The sub() Function\n",
        "\n",
        "The sub() function replaces the matches with the text of your choice:"
      ]
    },
    {
      "cell_type": "code",
      "execution_count": null,
      "metadata": {
        "id": "hMAEOGSsfW2g",
        "outputId": "dd31adb5-2a12-4148-d90c-b4ab62e0844e"
      },
      "outputs": [
        {
          "name": "stdout",
          "output_type": "stream",
          "text": [
            "The-train-in-Spain\n"
          ]
        }
      ],
      "source": [
        "#Replace every white-space character with the number 9:\n",
        "\n",
        "import re\n",
        "\n",
        "txt = \"The train in Spain\"\n",
        "\n",
        "x = re.sub(\"\\s\", \"-\", txt)\n",
        "print(x)"
      ]
    },
    {
      "cell_type": "code",
      "execution_count": null,
      "metadata": {
        "id": "oE2fbkFKfW2g",
        "outputId": "68e09ddc-4a38-4ccc-da47-d58209760177"
      },
      "outputs": [
        {
          "name": "stdout",
          "output_type": "stream",
          "text": [
            "The-train-in Spain\n"
          ]
        }
      ],
      "source": [
        "#Replace the first 2 occurrences:\n",
        "\n",
        "import re\n",
        "\n",
        "txt = \"The train in Spain\"\n",
        "\n",
        "x = re.sub(\"\\s\", \"-\", txt, 2)#count argument\n",
        "print(x)"
      ]
    },
    {
      "cell_type": "markdown",
      "metadata": {
        "id": "Wx4k1UfTfW2h"
      },
      "source": [
        "### Match Object\n",
        "\n",
        "A Match Object is an object containing information about the search and the result.\n",
        "\n",
        "Note: If there is no match, the value None will be returned, instead of the Match Object."
      ]
    },
    {
      "cell_type": "code",
      "execution_count": null,
      "metadata": {
        "id": "yPReQNg7fW2h",
        "outputId": "41af3ee2-31d1-4a5c-b341-1dcadeabedc0"
      },
      "outputs": [
        {
          "name": "stdout",
          "output_type": "stream",
          "text": [
            "<re.Match object; span=(6, 8), match='ai'>\n"
          ]
        }
      ],
      "source": [
        "#Do a search that will return a Match Object:\n",
        "\n",
        "import re\n",
        "\n",
        "txt = \"The train in Spain\"\n",
        "\n",
        "x = re.search(\"ai\", txt)\n",
        "\n",
        "print(x) #this will print an object"
      ]
    },
    {
      "cell_type": "markdown",
      "metadata": {
        "id": "9vtc0HHXfW2h"
      },
      "source": [
        "#### The Match object has properties and methods used to retrieve information about the search, and the result:\n",
        "\n",
        ".span() returns a tuple containing the start-, and end positions of the match.\n",
        "\n",
        ".string returns the string passed into the function\n",
        "\n",
        ".group() returns the part of the string where there was a match"
      ]
    },
    {
      "cell_type": "code",
      "execution_count": null,
      "metadata": {
        "id": "UVWiqqCYfW2i",
        "outputId": "2e76a4b6-d416-4054-fcd8-6b847c1a333c"
      },
      "outputs": [
        {
          "name": "stdout",
          "output_type": "stream",
          "text": [
            "<re.Match object; span=(13, 18), match='Spain'>\n"
          ]
        }
      ],
      "source": [
        "#Print the position (start- and end-position) of the first match occurrence.\n",
        "\n",
        "#The regular expression looks for any words that starts with an upper case \"S\":\n",
        "\n",
        "import re\n",
        "\n",
        "txt = \"The train in Spain\"\n",
        "\n",
        "x = re.search(r\"\\bS\\w+\", txt)\n",
        "\n",
        "print(x)"
      ]
    },
    {
      "cell_type": "code",
      "execution_count": null,
      "metadata": {
        "id": "X96OEbqcfW2i",
        "outputId": "ee295fe0-9f2a-41f6-a3dc-c73a23504b25"
      },
      "outputs": [
        {
          "name": "stdout",
          "output_type": "stream",
          "text": [
            "(13, 18)\n"
          ]
        }
      ],
      "source": [
        "print(x.span())\n",
        "#end position is exclusive, 13-17"
      ]
    },
    {
      "cell_type": "code",
      "execution_count": null,
      "metadata": {
        "id": "U4O-ddiSfW2j",
        "outputId": "7ae4cec2-9fb8-4415-fd16-7be8b9c65d29"
      },
      "outputs": [
        {
          "name": "stdout",
          "output_type": "stream",
          "text": [
            "The train in Spain\n"
          ]
        }
      ],
      "source": [
        "#Print the string passed into the function:\n",
        "\n",
        "import re\n",
        "\n",
        "txt = \"The train in Spain\"\n",
        "x = re.search(r\"\\bS\\w+\", txt)\n",
        "print(x.string)"
      ]
    },
    {
      "cell_type": "code",
      "execution_count": null,
      "metadata": {
        "id": "ldncjnAPfW2j",
        "outputId": "9227cc84-e72d-448f-d5d7-ae08b87ab21a"
      },
      "outputs": [
        {
          "name": "stdout",
          "output_type": "stream",
          "text": [
            "Spain\n"
          ]
        }
      ],
      "source": [
        "#Print the part of the string where there was a match.\n",
        "\n",
        "#The regular expression looks for any words that starts with an upper case \"S\":\n",
        "\n",
        "import re\n",
        "\n",
        "txt = \"The train in Spain\"\n",
        "x = re.search(r\"\\bS\\w+\", txt)\n",
        "print(x.group())"
      ]
    },
    {
      "cell_type": "markdown",
      "metadata": {
        "id": "AxS6ixpTfW2j"
      },
      "source": [
        "Note: If there is no match, the value None will be returned, instead of the Match Object."
      ]
    },
    {
      "cell_type": "code",
      "execution_count": null,
      "metadata": {
        "scrolled": true,
        "id": "x-KwXGwKfW2k",
        "outputId": "cdef2a6e-ecda-4eb3-f923-81fa01f87a24"
      },
      "outputs": [
        {
          "name": "stdout",
          "output_type": "stream",
          "text": [
            "Bushmeat\n"
          ]
        }
      ],
      "source": [
        "print(re.sub('bush', \"odin\", \"Bushmeat\"))"
      ]
    },
    {
      "cell_type": "code",
      "execution_count": null,
      "metadata": {
        "id": "ungZ2M8tfW2k",
        "outputId": "9191356e-648c-4213-c079-48e85aac2212"
      },
      "outputs": [
        {
          "name": "stdout",
          "output_type": "stream",
          "text": [
            "odinmeat\n"
          ]
        }
      ],
      "source": [
        "print(re.sub('Bush', \"odin\", \"Bushmeat\"))"
      ]
    },
    {
      "cell_type": "markdown",
      "metadata": {
        "id": "j4P3044BfW2k"
      },
      "source": [
        "### case insensitive Python regular expression"
      ]
    },
    {
      "cell_type": "code",
      "execution_count": null,
      "metadata": {
        "id": "eHjX_zAWfW2l",
        "outputId": "3d2b6dc9-372e-4a95-b849-d4a717881f94"
      },
      "outputs": [
        {
          "name": "stdout",
          "output_type": "stream",
          "text": [
            "odinpython\n"
          ]
        }
      ],
      "source": [
        "print (re.sub('bush', 'odin', 'Bushpython', flags=re.IGNORECASE))"
      ]
    },
    {
      "cell_type": "code",
      "execution_count": null,
      "metadata": {
        "id": "D1cccwU6fW2l"
      },
      "outputs": [],
      "source": []
    }
  ],
  "metadata": {
    "kernelspec": {
      "display_name": "Python 3",
      "language": "python",
      "name": "python3"
    },
    "language_info": {
      "codemirror_mode": {
        "name": "ipython",
        "version": 3
      },
      "file_extension": ".py",
      "mimetype": "text/x-python",
      "name": "python",
      "nbconvert_exporter": "python",
      "pygments_lexer": "ipython3",
      "version": "3.8.3"
    },
    "colab": {
      "provenance": [],
      "include_colab_link": true
    }
  },
  "nbformat": 4,
  "nbformat_minor": 0
}